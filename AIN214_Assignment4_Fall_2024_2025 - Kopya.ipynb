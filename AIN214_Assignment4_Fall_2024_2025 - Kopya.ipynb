{
  "nbformat": 4,
  "nbformat_minor": 0,
  "metadata": {
    "colab": {
      "provenance": []
    },
    "kernelspec": {
      "name": "python3",
      "display_name": "Python 3"
    },
    "language_info": {
      "name": "python"
    }
  },
  "cells": [
    {
      "cell_type": "markdown",
      "source": [
        "# **AIN 214 - PA4 - FALL 2024**\n",
        "\n",
        "\n"
      ],
      "metadata": {
        "id": "-JsD4n549KSW"
      }
    },
    {
      "cell_type": "markdown",
      "source": [
        "**Student Number** :\n",
        "\n",
        "**Name Surname**   :"
      ],
      "metadata": {
        "id": "jeu4gamv8uxb"
      }
    },
    {
      "cell_type": "markdown",
      "source": [
        "\n",
        "BELOW MD CELLS CONTAIN THE QUESTIONS YOU ARE ASKED TO IMPLEMENT WITHIN THE CONTEXT OF THIS HW. PLEASE FILL IN THE CELLS FOR THE ANSWERS RIGHT BELOW THE MD CELL OF THE QUESTION. YOU CAN ADD AS MANY CELLS AS YOU WANT, BE IT CODE OR MD, SO LONG AS YOU PROVIDE UNDERSTANDABLE AND TRACEABLE REPORTING. PLEASE ADD COMMENTS ON YOUR CODES. ALSO, FILL IN MD CELLS WHERE YOU ARE ASKED TO COMMENT ON YOUR RESULTS OR EXPLAIN YOUR REASONING. ALSO, PLEASE DO NOT HESITATE TO USE THEM FOR YOUR OWN REPORTING PURPOSES. PLEASE KEEP IN MIND THAT, REPORTING IS A KEY STEP IN DATA SCIENCE.\n",
        "\n",
        "**Deadline: 13.12.2024 (23:59:59)**\n",
        "\n",
        "**Submission:** Submit your Jupyter Notebooks via https://submit.cs.hacettepe.edu.tr/"
      ],
      "metadata": {
        "id": "so7UTKwA8ULy"
      }
    },
    {
      "cell_type": "markdown",
      "source": [
        "<font color='red'> **!!! PLEASE RUN YOUR CODE.   THE OUTPUT OF YOUR CODE MUST BE VISIBLE. DO NOT DELETE OR HIDE THE OUTPUT.**</font>\n",
        "\n"
      ],
      "metadata": {
        "id": "4DMppOozxWhH"
      }
    },
    {
      "cell_type": "markdown",
      "source": [
        "---\n",
        "\n",
        "\n",
        "# **Building kNN and Logistic Regression Classifiers**\n",
        "\n",
        "---\n",
        "**Dataset Path:** \"Data/stroke.csv\"\n",
        "---\n",
        "\n",
        "We will deal with the stroke dataset. The dataset contains demographic and health-related data to predict whether a patient is likely to have a stroke.\n",
        "\n",
        "**Features:**\n",
        "\n",
        "\n",
        "* id: Unique identifier (can be ignored for modeling).\n",
        "* gender: Gender of the patient (categorical).\n",
        "* age: Age of the patient (numerical).\n",
        "* hypertension: Whether the patient has hypertension (0 = No, 1 = Yes).\n",
        "* heart_disease: Whether the patient has heart disease (0 = No, 1 = Yes).\n",
        "* ever_married: Marital status (categorical).\n",
        "* work_type: Type of work (categorical).\n",
        "* Residence_type: Rural or Urban (categorical).\n",
        "* avg_glucose_level: Average glucose level (numerical).\n",
        "* bmi: Body Mass Index (numerical).\n",
        "* smoking_status: Smoking habits (categorical).\n",
        "* stroke: Target variable (1 = Stroke, 0 = No Stroke)."
      ],
      "metadata": {
        "id": "sgrFbTEny7xG"
      }
    },
    {
      "cell_type": "markdown",
      "source": [
        "# **Necessary Imports**"
      ],
      "metadata": {
        "id": "l9crUPV39bKP"
      }
    },
    {
      "cell_type": "code",
      "source": [
        "# Import required libraries\n"
      ],
      "metadata": {
        "id": "bDF8rpnv9kjd"
      },
      "execution_count": null,
      "outputs": []
    },
    {
      "cell_type": "markdown",
      "source": [
        "# **PART- 1: Data Preprocessing and Visualization (35 Pts)**\n",
        "\n",
        "---"
      ],
      "metadata": {
        "id": "ErBKcN6KBvW8"
      }
    },
    {
      "cell_type": "markdown",
      "source": [
        "## 1.1. Explaratory Data Analysis (20 Pts)\n",
        "\n",
        "* Load the dataset\n",
        "* Check and Handle Missing Values\n",
        "\n",
        "  * Identify columns with missing values.\n",
        "  * Replace missing values using suitable methods (mean or median imputation).\n",
        "\n",
        "* Check and Handle Outliers\n",
        "\n",
        "  * Detect outliers in numerical features\n",
        "  * Handle outliers appropriately\n",
        "\n",
        "* Convert categorical variables into numerical values.\n",
        "* Perform data normalization\n",
        "\n"
      ],
      "metadata": {
        "id": "sJnjys99ed82"
      }
    },
    {
      "cell_type": "code",
      "source": [
        "# your code here"
      ],
      "metadata": {
        "id": "_ZEWZJYShynt"
      },
      "execution_count": null,
      "outputs": []
    },
    {
      "cell_type": "markdown",
      "source": [
        "## 1.2. Data Visualization (10 Pts)\n",
        "\n",
        "* Visualize the distribution of numerical features\n",
        "* Analyze the relationship between categorical features (e.g., gender, work_type) and the target variable (stroke).\n",
        "* Plot a correlation heatmap to analyze their relationships.\n",
        "* Comment on any findings"
      ],
      "metadata": {
        "id": "XPvhFOP3h1Wz"
      }
    },
    {
      "cell_type": "code",
      "source": [
        "# your code here"
      ],
      "metadata": {
        "id": "W0kUGIk6iU7r"
      },
      "execution_count": null,
      "outputs": []
    },
    {
      "cell_type": "markdown",
      "source": [
        "## 1.3. Data Splitting (5 Pts)\n",
        "\n",
        "* Manually split the dataset into training (70%) and testing (30%) sets\n",
        "* Shuffle and split the data\n",
        "* Avoid using predefined functions like train_test_split for this task\n"
      ],
      "metadata": {
        "id": "x40d41YfidvJ"
      }
    },
    {
      "cell_type": "code",
      "source": [
        "# your code here"
      ],
      "metadata": {
        "id": "wxgqgzupi95e"
      },
      "execution_count": null,
      "outputs": []
    },
    {
      "cell_type": "markdown",
      "source": [
        "# **PART- 2: Model Building (30 points)**\n",
        "\n",
        "Implement two classification models:\n",
        "\n",
        "* k-Nearest Neighbors (kNN)\n",
        "* Logistic Regression\n",
        "\n",
        "\n",
        "***You can use scikit-learn***\n",
        "\n",
        "\n"
      ],
      "metadata": {
        "id": "BPt91yizJhpJ"
      }
    },
    {
      "cell_type": "markdown",
      "source": [
        "## 2.1. kNN Classifier (15 Pts)\n",
        "* Build and train the kNN model\n",
        "* Choose the optimal k value using Minkowski distance with at least two different values for p\n"
      ],
      "metadata": {
        "id": "UHHw2jMxmABl"
      }
    },
    {
      "cell_type": "code",
      "source": [
        "# your code here"
      ],
      "metadata": {
        "id": "I6u83VcbmtTP"
      },
      "execution_count": null,
      "outputs": []
    },
    {
      "cell_type": "markdown",
      "source": [
        "## 2.2. Logistic Regression (15 Pts)\n",
        "* Build and train the Logistic Regression model"
      ],
      "metadata": {
        "id": "kyagXs5Omtvm"
      }
    },
    {
      "cell_type": "code",
      "source": [
        "# your code here"
      ],
      "metadata": {
        "id": "NgP_lHr-nFPz"
      },
      "execution_count": null,
      "outputs": []
    },
    {
      "cell_type": "markdown",
      "source": [
        "\n",
        "# **PART- 3: Model Evaluation (35 points)**\n",
        "\n"
      ],
      "metadata": {
        "id": "hOJYlgO6jaR1"
      }
    },
    {
      "cell_type": "markdown",
      "source": [
        "## 3.1 Confusion Matrix (15)\n",
        "\n",
        "Analysis of the confusion matrices for both models:\n",
        "\n",
        "* Plot and interpret the confusion matrices\n",
        "* Display accuracy, precision, recall, and F1-score for both models\n",
        "\n"
      ],
      "metadata": {
        "id": "j5UMGYo2j26P"
      }
    },
    {
      "cell_type": "code",
      "source": [
        "# your code here"
      ],
      "metadata": {
        "id": "KFycLqvpj-kt"
      },
      "execution_count": null,
      "outputs": []
    },
    {
      "cell_type": "markdown",
      "source": [
        "## 3.2 Precision-Recall Curves (5)\n",
        "\n",
        "Evaluate the Precision-Recall curves for both models:\n",
        "\n",
        "* Plot and analyze the curves"
      ],
      "metadata": {
        "id": "M9bBLLVSj_E2"
      }
    },
    {
      "cell_type": "code",
      "source": [
        "# your code here"
      ],
      "metadata": {
        "id": "lrqn2pd3kGPI"
      },
      "execution_count": null,
      "outputs": []
    },
    {
      "cell_type": "markdown",
      "source": [
        "## 3.3. Compare the Model (15 Pts)\n",
        "\n",
        "Prepare a detailed evaluation report with metrics, visualizations, and comparative analysis.\n",
        "\n",
        "* Compare the performance of kNN and Logistic Regression based on the metrics.\n",
        "\n",
        "* Discuss which model performs better and hypothesize why."
      ],
      "metadata": {
        "id": "aaSEMhq-nFk9"
      }
    },
    {
      "cell_type": "code",
      "source": [
        "# your code here"
      ],
      "metadata": {
        "id": "tfZ3ARPGnwi2"
      },
      "execution_count": null,
      "outputs": []
    },
    {
      "cell_type": "markdown",
      "source": [
        "# SUBMIT FORMAT\n",
        "\n",
        "* **<-zip>**\n",
        "  - **studentID_name_surname_hw4.ipynb**\n"
      ],
      "metadata": {
        "id": "hlDZmDHMWBrk"
      }
    },
    {
      "cell_type": "markdown",
      "source": [
        "# PLAGIARISM\n",
        "\n",
        "All work on assignments must be done individually. You are encouraged to discuss the given assignments with your classmates, but these discussions should be carried out in an abstract way. That is, discussions related to a particular solution to a specific probem (either in actual code or in pseudocode) will not be tolerated. In short, turning in someone else’s work (including work available on the internet), in whole or in part, as your own will be considered as a violation of academic integrity. Please note that the former conditions also hold for the material attained using AI tools, including ChatGPT, GitHub Copilot, etc."
      ],
      "metadata": {
        "id": "fTXBu8Dql0Iv"
      }
    }
  ]
}